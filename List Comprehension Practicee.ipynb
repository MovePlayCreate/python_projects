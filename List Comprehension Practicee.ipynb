{
 "cells": [
  {
   "cell_type": "code",
   "execution_count": 1,
   "id": "25917f04-9f8d-44cc-b53b-94dc9c898287",
   "metadata": {},
   "outputs": [],
   "source": [
    "numbers = [1, 2, 3]\n",
    "new_numbers = [n+1 for n in numbers]\n",
    "\n",
    "# can use list comprehension on strings as well as lists\n",
    "name = \"Patrick\"\n",
    "new_list = [letter.lower() for letter in name]\n",
    "new_list = [letter.upper() for letter in name]\n",
    "\n",
    "# range as the list modifier, this list comprehension doubles every item in the range\n",
    "double_range = [i*2 for i in range(1, 5)]\n",
    "\n",
    "# using conditional list comprehension\n",
    "# new_list = [new_item for item in list if test]\n",
    "names = [\"Alex\", \"Beth\", \"Caroline\", \"Dave\", \"Eleanor\", \"Freddie\"]\n",
    "short_names = [name for name in names if len(name) <= 4]\n",
    "uppercase_names = [name.upper() for name in names if len(name) > 5]\n",
    "\n"
   ]
  },
  {
   "cell_type": "code",
   "execution_count": null,
   "id": "4bafac04-f1e4-439c-bfca-8480ebc45403",
   "metadata": {},
   "outputs": [],
   "source": [
    "# squares every number in the list\n",
    "numbers = [1, 1, 2, 3, 5, 8, 13, 21, 34, 55]\n",
    "squared_numbers = [num**2 for num in numbers]\n",
    "print(squared_numbers)\n",
    "\n",
    "# Filtering even numbers from a list of strings. First putting the list of strings into a list of integers\n",
    "list_of_strings = ['9', '0', '32', '8', '2', '8', '64', '29', '42', '99']\n",
    "numbers = [int(string) for string in list_of_strings]\n",
    "result = [num for num in numbers if num % 2 == 0]\n",
    "print(result)\n"
   ]
  },
  {
   "cell_type": "code",
   "execution_count": null,
   "id": "0c5e92e6-5a98-4330-8429-cc29780cce3c",
   "metadata": {},
   "outputs": [],
   "source": [
    "# Data Overlap: Really hard exercise taking two files with lists of numbers and comparing them with list comprehension\n",
    "\n",
    "with open(\"file1.txt\") as num_list1:\n",
    "    num_1 = num_list1.readlines()\n",
    "    int_list1 = [int(item.strip()) for item in num_1]\n",
    "    print(int_list1)\n",
    "   \n",
    "with open(\"file2.txt\") as num_list2:\n",
    "    num_2 = num_list2.readlines()\n",
    "    int_list2 = [int(item.strip()) for item in num_2]\n",
    "    print(int_list2)\n",
    "    \n",
    "result = [num for num in int_list1 if num in int_list2]\n",
    "print(result)"
   ]
  },
  {
   "cell_type": "code",
   "execution_count": null,
   "id": "8746cf67-add2-47f0-a2dc-699e759b6933",
   "metadata": {},
   "outputs": [],
   "source": [
    "import random\n",
    "names = [\"Alex\", \"Beth\", \"Caroline\", \"Dave\", \"Eleanor\", \"Freddie\"]\n",
    "students_scores = {student: random.randint(1,100) for student in names}\n",
    "passed_students = {student:score for (student, score) in students_scores.items() if score >=70}"
   ]
  }
 ],
 "metadata": {
  "kernelspec": {
   "display_name": "Python 3 (ipykernel)",
   "language": "python",
   "name": "python3"
  },
  "language_info": {
   "codemirror_mode": {
    "name": "ipython",
    "version": 3
   },
   "file_extension": ".py",
   "mimetype": "text/x-python",
   "name": "python",
   "nbconvert_exporter": "python",
   "pygments_lexer": "ipython3",
   "version": "3.12.5"
  }
 },
 "nbformat": 4,
 "nbformat_minor": 5
}
