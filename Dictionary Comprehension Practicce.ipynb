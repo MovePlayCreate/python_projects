{
 "cells": [
  {
   "cell_type": "code",
   "execution_count": null,
   "id": "c07fb381-2cd0-41c3-838c-cf57cdb181be",
   "metadata": {},
   "outputs": [],
   "source": [
    "import random\n",
    "names = [\"Alex\", \"Beth\", \"Caroline\", \"Dave\", \"Eleanor\", \"Freddie\"]\n",
    "students_scores = {student: random.randint(1,100) for student in names}\n",
    "passed_students = {student:score for (student, score) in students_scores.items() if score >=70}\n"
   ]
  },
  {
   "cell_type": "code",
   "execution_count": null,
   "id": "592b90db-1c99-4d6d-9561-b445d547625a",
   "metadata": {},
   "outputs": [],
   "source": [
    "# write a dictionary comprehension that will take the sentence and put it in key value pairs of word:number of letters in the word\n",
    "sentence = \"What is the Airspeed Velocity of an Unladen Swallow?\"\n",
    "result = {word:len(word) for word in sentence.split()}\n",
    "\n"
   ]
  },
  {
   "cell_type": "code",
   "execution_count": null,
   "id": "d312fd2e-5d98-4e82-bd25-ea5429b12895",
   "metadata": {},
   "outputs": [],
   "source": [
    "# converting celcius to farhenheit using dictionary comprehension\n",
    "weather_c = {\"Monday\": 12, \"Tuesday\": 14, \"Wednesday\": 15, \"Thursday\": 14, \"Friday\": 21, \"Saturday\": 22, \"Sunday\": 24}\n",
    "weather_f = {day:temp * 9/5 + 32 for (day, temp) in weather_c.items()}\n",
    "\n",
    "print(weather_f)"
   ]
  }
 ],
 "metadata": {
  "kernelspec": {
   "display_name": "Python 3 (ipykernel)",
   "language": "python",
   "name": "python3"
  },
  "language_info": {
   "codemirror_mode": {
    "name": "ipython",
    "version": 3
   },
   "file_extension": ".py",
   "mimetype": "text/x-python",
   "name": "python",
   "nbconvert_exporter": "python",
   "pygments_lexer": "ipython3",
   "version": "3.12.5"
  }
 },
 "nbformat": 4,
 "nbformat_minor": 5
}
