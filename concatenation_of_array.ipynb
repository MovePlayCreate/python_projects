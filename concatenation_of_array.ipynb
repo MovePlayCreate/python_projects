{
 "cells": [
  {
   "cell_type": "code",
   "execution_count": null,
   "id": "edfd0148-66ec-4c9d-a09e-99d07895aafb",
   "metadata": {},
   "outputs": [],
   "source": [
    "class Solution:\n",
    "    def getConcatenation(self, nums: List[int]) -> List[int]:\n",
    "        ans = []\n",
    "        for i in range(2):\n",
    "            for n in nums:\n",
    "                ans.append(n)\n",
    "        return ans"
   ]
  }
 ],
 "metadata": {
  "kernelspec": {
   "display_name": "Python [conda env:base] *",
   "language": "python",
   "name": "conda-base-py"
  },
  "language_info": {
   "codemirror_mode": {
    "name": "ipython",
    "version": 3
   },
   "file_extension": ".py",
   "mimetype": "text/x-python",
   "name": "python",
   "nbconvert_exporter": "python",
   "pygments_lexer": "ipython3",
   "version": "3.13.5"
  }
 },
 "nbformat": 4,
 "nbformat_minor": 5
}
